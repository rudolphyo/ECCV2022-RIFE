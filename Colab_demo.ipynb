{
 "cells": [
  {
   "cell_type": "markdown",
   "metadata": {
    "jp-MarkdownHeadingCollapsed": true,
    "tags": []
   },
   "source": [
    "### scripts"
   ]
  },
  {
   "cell_type": "markdown",
   "metadata": {
    "colab_type": "text",
    "id": "view-in-github"
   },
   "source": [
    "<a href=\"https://colab.research.google.com/github/hzwer/arXiv2020-RIFE/blob/main/Colab_demo.ipynb\" target=\"_parent\"><img src=\"https://colab.research.google.com/assets/colab-badge.svg\" alt=\"Open In Colab\"/></a>"
   ]
  },
  {
   "cell_type": "code",
   "execution_count": null,
   "metadata": {
    "id": "FypCcZkNNt2p"
   },
   "outputs": [],
   "source": [
    "!git clone https://github.com/hzwer/arXiv2020-RIFE"
   ]
  },
  {
   "cell_type": "code",
   "execution_count": null,
   "metadata": {
    "id": "1wysVHxoN54f"
   },
   "outputs": [],
   "source": [
    "!mkdir /content/arXiv2020-RIFE/train_log\n",
    "%cd /content/arXiv2020-RIFE/train_log\n",
    "!gdown --id 1APIzVeI-4ZZCEuIRE1m6WYfSCaOsi_7_\n",
    "!7z e RIFE_trained_model_v3.6.zip"
   ]
  },
  {
   "cell_type": "code",
   "execution_count": null,
   "metadata": {
    "id": "AhbHfRBJRAUt"
   },
   "outputs": [],
   "source": [
    "%cd /content/arXiv2020-RIFE/\n",
    "!gdown --id 1i3xlKb7ax7Y70khcTcuePi6E7crO_dFc\n",
    "!pip3 install -r requirements.txt"
   ]
  },
  {
   "cell_type": "markdown",
   "metadata": {
    "id": "rirngW5uRMdg"
   },
   "source": [
    "Please upload your video to content/arXiv2020-RIFE/video.mp4, or use our demo video."
   ]
  },
  {
   "cell_type": "code",
   "execution_count": null,
   "metadata": {
    "id": "dnLn4aHHPzN3"
   },
   "outputs": [],
   "source": [
    "!nvidia-smi\n",
    "!python3 inference_video.py --exp=2 --video=demo.mp4 --montage --skip"
   ]
  },
  {
   "cell_type": "markdown",
   "metadata": {
    "id": "77KK6lxHgJhf"
   },
   "source": [
    "Our demo.mp4 is 25FPS. You can adjust the parameters for your own perference.\n",
    "For example: \n",
    "--fps=60 --exp=1 --video=mydemo.avi --png"
   ]
  },
  {
   "cell_type": "code",
   "execution_count": null,
   "metadata": {
    "cellView": "code",
    "id": "0zIBbVE3UfUD",
    "tags": []
   },
   "outputs": [],
   "source": [
    "from IPython.display import display, Image\n",
    "import moviepy.editor as mpy\n",
    "display(mpy.ipython_display('demo_4X_100fps.mp4', height=256, max_duration=100.))"
   ]
  },
  {
   "cell_type": "code",
   "execution_count": null,
   "metadata": {
    "id": "tWkJCNgP3zXA",
    "tags": []
   },
   "outputs": [],
   "source": [
    "!python3 inference_img.py --img demo/I0_0.png demo/I0_1.png\n",
    "ffmpeg -r 10 -f image2 -i output/img%d.png -s 448x256 -vf \"split[s0][s1];[s0]palettegen=stats_mode=single[p];[s1][p]paletteuse=new=1\" output/slomo.gif\n",
    "# Image interpolation"
   ]
  },
  {
   "cell_type": "markdown",
   "metadata": {
    "tags": []
   },
   "source": [
    "### as-is"
   ]
  },
  {
   "cell_type": "code",
   "execution_count": null,
   "metadata": {
    "tags": []
   },
   "outputs": [],
   "source": [
    "import subprocess\n",
    "\n",
    "from PIL import Image\n",
    "from pathlib import Path\n",
    "\n",
    "from typing import List, Union\n",
    "\n",
    "\n",
    "VIDS_DIR = Path(\"vids\")\n",
    "\n",
    "\n",
    "def correct_shape(img, n_w, n_h):\n",
    "    w, h = img.size\n",
    "    if w % n_w != 0:\n",
    "        target_w = w - w % n_w\n",
    "    if h % n_h != 0:\n",
    "        target_h = h - h % n_h\n",
    "    else:\n",
    "        return img\n",
    "\n",
    "    print(f\"tile vs dim. mismatch, resizing {w, h} -> {target_w, target_h}\")\n",
    "    img = img.resize((target_w, target_h))\n",
    "    return img\n",
    "\n",
    "\n",
    "def untile(img_path, res_dir, n_tw=3, n_th=3):\n",
    "    img = Image.open(img_path)\n",
    "    img = correct_shape(img, n_tw, n_th)\n",
    "    w, h = img.size\n",
    "\n",
    "    dir_to_save = res_dir / f\"{img_path.stem}-untiled/\"\n",
    "    dir_to_save.mkdir(exist_ok=True)\n",
    "    print(f\"saving to {dir_to_save}\")\n",
    "    \n",
    "    tile_w, tile_h = w // n_tw, h // n_th\n",
    "    for i in range(n_th):\n",
    "        y = i * tile_h\n",
    "        for j in range(n_tw):\n",
    "            x = j * tile_w\n",
    "            print(f\"tile-n{i}m{j} \\t x={j} * {tile_w}: {x} \\t y = {i} * {tile_h}: {y} \\t \\n\")\n",
    "            left_upper = (x, y)\n",
    "            right_bottom = (x + tile_w, y + tile_h)\n",
    "            print(f\"lu: {left_upper}, rb: {right_bottom}\")\n",
    "            cur_img = img.crop((x, y, x + tile_w, y + tile_h))\n",
    "            cur_img.save(dir_to_save / f\"{i}{j}.png\")\n",
    "            \n",
    "\n",
    "def process_images(\n",
    "    image_pathes: List[Union[str, Path]], \n",
    "    rife_output_dir: Path,\n",
    "    ims_mask: str,\n",
    "    vids_dir: Path = VIDS_DIR,\n",
    ") -> str:\n",
    "    \"\"\"\n",
    "    writes resulting video  path of resulting video to \n",
    "    {VIDS_DIR}/{rife_output_dir}.mp4\n",
    "    \"\"\"\n",
    "        \n",
    "    ims_pair = []\n",
    "    for i in range(len(image_pathes) - 1):\n",
    "        ims_pair.append(\n",
    "            (ims_path[i].as_posix(), ims_path[i + 1].as_posix())\n",
    "        )\n",
    "    ims_pair.append(\n",
    "        (ims_path[-1].as_posix(), ims_path[0].as_posix())\n",
    "    )\n",
    "    \n",
    "    \n",
    "    save_dir = rife_output_dir / \"interpolated\" / ims_mask\n",
    "    save_dir.mkdir(exist_ok=True, parents=True)\n",
    "    \n",
    "    print(f\"saving interpolated to {save_dir}\")\n",
    "    for im1_path, im2_path in ims_pair:\n",
    "        start_ind = len([i for i in save_dir.glob(\"*.png\")])\n",
    "        print(f\"starting from ... {start_ind}\")\n",
    "        ! python3 inference_img.py --img {im1_path} {im2_path} --exp=4 --save_dir={save_dir} --start_ind={start_ind}\n",
    "\n",
    "\n",
    "    VIDS_DIR.mkdir(exist_ok=True)\n",
    "    \n",
    "    print(f\" saving video to: {VIDS_DIR}/{ims_mask}.mp4\")\n",
    "    ! ffmpeg -v 0 -framerate 60 -i {save_dir}/%05d.png -c:v libx264 -pix_fmt yuv420p {VIDS_DIR}/{rife_output_dir}_{ims_mask}.mp4\n"
   ]
  },
  {
   "cell_type": "code",
   "execution_count": null,
   "metadata": {
    "tags": []
   },
   "outputs": [],
   "source": [
    "ims_dir = Path(\"./alb-bc/\")\n",
    "result_dir = Path(\"alb-bc-untiled/\")\n",
    "result_dir.mkdir(exist_ok=True)\n",
    "\n",
    "\n",
    "nw, nh = 3, 3\n",
    "for i in ims_dir.glob(\"*.png\"):\n",
    "    untile(i, result_dir, nw, nh)"
   ]
  },
  {
   "cell_type": "code",
   "execution_count": null,
   "metadata": {
    "tags": []
   },
   "outputs": [],
   "source": [
    "ims_mask = [f\"{i}{j}\" for i in range(nw) for j in range(nh)]\n",
    "\n",
    "for im_m in ims_mask:\n",
    "    ims_path = [i for i in result_dir.glob(f\"*/{im_m}.png\")]\n",
    "    \n",
    "    process_images(ims_path, result_dir, im_m)"
   ]
  },
  {
   "cell_type": "code",
   "execution_count": null,
   "metadata": {
    "tags": []
   },
   "outputs": [],
   "source": [
    "import time\n",
    "import numpy as np"
   ]
  },
  {
   "cell_type": "code",
   "execution_count": null,
   "metadata": {
    "tags": []
   },
   "outputs": [],
   "source": [
    "def time_inf(ims_pair, exp=2):\n",
    "    times = []\n",
    "    save_dir = Path(\"dump\")\n",
    "    save_dir.mkdir(exist_ok=True)\n",
    "    for im1_path, im2_path in ims_pair:\n",
    "        start_ind = len([i for i in save_dir.glob(\"*.png\")])\n",
    "        s_time = time.time()\n",
    "        ! python3 inference_img.py --img {im1_path} {im2_path} --exp={exp} --save_dir={save_dir} --start_ind={start_ind}\n",
    "        exec_s = time.time() - s_time\n",
    "        times.append(exec_s)\n",
    "        \n",
    "    return times\n",
    "\n",
    "\n",
    "dict_times = {}\n",
    "\n",
    "ims_dir = Path(\"./samples-abl\")\n",
    "ims_path = [i for i in ims_dir.glob(\"*.png\")]\n",
    "ims_pair = []\n",
    "\n",
    "for i in range(len(ims_path) - 1):\n",
    "    ims_pair.append(\n",
    "        (ims_path[i].as_posix(), ims_path[i + 1].as_posix())\n",
    "    )\n",
    "ims_pair.append(\n",
    "    (ims_path[-1].as_posix(), ims_path[0].as_posix())\n",
    ")\n",
    "\n",
    "dict_times[\"exp4_512x512\"] = time_inf(ims_pair, exp=4)\n",
    "\n",
    "dict_times[\"exp2_512x512\"] = time_inf(ims_pair, exp=2)\n",
    "\n",
    "\n",
    "ims_dir = Path(\"./sample-alb-upscaled/\")\n",
    "ims_path = [i for i in ims_dir.glob(\"*.png\")]\n",
    "ims_pair = []\n",
    "\n",
    "for i in range(len(ims_path) - 1):\n",
    "    ims_pair.append(\n",
    "        (ims_path[i].as_posix(), ims_path[i + 1].as_posix())\n",
    "    )\n",
    "ims_pair.append(\n",
    "    (ims_path[-1].as_posix(), ims_path[0].as_posix())\n",
    ")\n",
    "\n",
    "dict_times[\"exp4_2048x2048\"] = time_inf(ims_pair, exp=4)  \n"
   ]
  },
  {
   "cell_type": "code",
   "execution_count": 77,
   "metadata": {
    "tags": []
   },
   "outputs": [
    {
     "name": "stdout",
     "output_type": "stream",
     "text": [
      "tag: \t exp4_512x512\n",
      "mean +- std \t 2.6263 +- 0.0287\n",
      "median +- std \t 2.6237 +- 0.0287\n",
      "\n",
      "\n",
      "\n",
      "tag: \t exp2_512x512\n",
      "mean +- std \t 2.4216 +- 0.0161\n",
      "median +- std \t 2.4253 +- 0.0161\n",
      "\n",
      "\n",
      "\n",
      "tag: \t exp4_2048x2048\n",
      "mean +- std \t 7.3876 +- 0.0298\n",
      "median +- std \t 7.3966 +- 0.0298\n",
      "\n",
      "\n",
      "\n"
     ]
    }
   ],
   "source": [
    "for name in dict_times:\n",
    "    times = dict_times[name]\n",
    "    print(f\"tag: \\t {name}\")\n",
    "    print(f\"mean +- std \\t {np.mean(times):.4f} +- {np.std(times):.4f}\")\n",
    "    print(f\"median +- std \\t {np.median(times):.4f} +- {np.std(times):.4f}\")\n",
    "    print(\"\\n\\n\")"
   ]
  },
  {
   "cell_type": "code",
   "execution_count": null,
   "metadata": {},
   "outputs": [],
   "source": [
    "# TODO:\n",
    "# full load on GPU\n",
    "# profile (*)\n",
    "# continuosly stream latest\n",
    "# 2x -> 4x\n",
    "# put in .inference [bs, * , * ...] tensor\n",
    "# different ratios"
   ]
  }
 ],
 "metadata": {
  "accelerator": "GPU",
  "colab": {
   "include_colab_link": true,
   "name": "Untitled0.ipynb",
   "provenance": []
  },
  "kernelspec": {
   "display_name": "Python 3 (ipykernel)",
   "language": "python",
   "name": "python3"
  },
  "language_info": {
   "codemirror_mode": {
    "name": "ipython",
    "version": 3
   },
   "file_extension": ".py",
   "mimetype": "text/x-python",
   "name": "python",
   "nbconvert_exporter": "python",
   "pygments_lexer": "ipython3",
   "version": "3.8.10"
  }
 },
 "nbformat": 4,
 "nbformat_minor": 4
}
